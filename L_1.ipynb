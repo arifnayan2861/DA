{
  "cells": [
    {
      "cell_type": "markdown",
      "metadata": {
        "id": "view-in-github",
        "colab_type": "text"
      },
      "source": [
        "<a href=\"https://colab.research.google.com/github/arifnayan2861/DA/blob/main/L_1.ipynb\" target=\"_parent\"><img src=\"https://colab.research.google.com/assets/colab-badge.svg\" alt=\"Open In Colab\"/></a>"
      ]
    },
    {
      "cell_type": "markdown",
      "source": [
        "# Dictionary"
      ],
      "metadata": {
        "id": "Sk8TzapIieu-"
      }
    },
    {
      "cell_type": "code",
      "source": [
        "student_nayan = {\"name\": \"Nayan\", \"age\": 23, \"department\": \"CSE\"}\n",
        "print(student_nayan)"
      ],
      "metadata": {
        "colab": {
          "base_uri": "https://localhost:8080/"
        },
        "id": "LtUtcN3Sig2n",
        "outputId": "3f2f451f-d995-419d-b17d-54412cb672d3"
      },
      "execution_count": 20,
      "outputs": [
        {
          "output_type": "stream",
          "name": "stdout",
          "text": [
            "{'name': 'Nayan', 'age': 23, 'department': 'CSE'}\n"
          ]
        }
      ]
    },
    {
      "cell_type": "code",
      "source": [
        "def print_student(student):\n",
        "  for key, value in student.items():\n",
        "    print(f\"{key}: {value}\")\n",
        "print_student(student_nayan)"
      ],
      "metadata": {
        "colab": {
          "base_uri": "https://localhost:8080/"
        },
        "id": "Ijb0gdYujPXz",
        "outputId": "81ce86ad-71de-4ffe-cb91-ed5408196c0c"
      },
      "execution_count": 25,
      "outputs": [
        {
          "output_type": "stream",
          "name": "stdout",
          "text": [
            "name: Akash\n",
            "age: 22\n",
            "department: CSE\n",
            "address: Narayanganj\n"
          ]
        }
      ]
    },
    {
      "cell_type": "code",
      "source": [
        "print(student_nayan.get(\"name\"))\n",
        "print(student_nayan.get(\"age\"))"
      ],
      "metadata": {
        "colab": {
          "base_uri": "https://localhost:8080/"
        },
        "id": "Ss_L1QvvjQWm",
        "outputId": "40e54918-edb1-4df8-ce0e-5ca9bafc4e45"
      },
      "execution_count": 7,
      "outputs": [
        {
          "output_type": "stream",
          "name": "stdout",
          "text": [
            "Nayan\n",
            "23\n"
          ]
        }
      ]
    },
    {
      "cell_type": "code",
      "source": [
        "print(student_nayan.get(\"father's name\", \"Unavailable\"))"
      ],
      "metadata": {
        "colab": {
          "base_uri": "https://localhost:8080/"
        },
        "id": "zSOrKQ-QjqWY",
        "outputId": "400c2150-9ef1-405e-c5ae-5a5ca19d1234"
      },
      "execution_count": 8,
      "outputs": [
        {
          "output_type": "stream",
          "name": "stdout",
          "text": [
            "Unavailable\n"
          ]
        }
      ]
    },
    {
      "cell_type": "code",
      "source": [
        "student_nayan[\"name\"]= \"Akash\"\n",
        "student_nayan[\"age\"]= 22\n",
        "student_nayan[\"address\"]=\"Narayanganj\"\n",
        "print(student_nayan)"
      ],
      "metadata": {
        "colab": {
          "base_uri": "https://localhost:8080/"
        },
        "id": "1_GORQvhkCUf",
        "outputId": "be0876f0-2807-47b3-ba5f-ddd8bb3d0316"
      },
      "execution_count": 22,
      "outputs": [
        {
          "output_type": "stream",
          "name": "stdout",
          "text": [
            "{'name': 'Akash', 'age': 22, 'department': 'CSE', 'address': 'Narayanganj'}\n"
          ]
        }
      ]
    },
    {
      "cell_type": "code",
      "source": [
        "student_akash = student_nayan.copy()\n",
        "del student_akash[\"name\"]\n",
        "print_student(student_akash)"
      ],
      "metadata": {
        "colab": {
          "base_uri": "https://localhost:8080/"
        },
        "id": "N8IGS21flfju",
        "outputId": "0c040ea7-2fcf-4b2b-a4df-f136ac88f622"
      },
      "execution_count": 26,
      "outputs": [
        {
          "output_type": "stream",
          "name": "stdout",
          "text": [
            "age: 22\n",
            "department: CSE\n",
            "address: Narayanganj\n"
          ]
        }
      ]
    },
    {
      "cell_type": "code",
      "source": [
        "students = {\"nayan\": {\"age\": 23, \"address\": \"narayanganj\", \"hobbies\": [\"music\", \"games\"]},\n",
        "            \"farha\": {\"age\": 20, \"address\": \"munshiganj\", \"hobbies\": [\"shopping\"]}}"
      ],
      "metadata": {
        "id": "bfndiimqn5Rx"
      },
      "execution_count": 27,
      "outputs": []
    },
    {
      "cell_type": "code",
      "source": [
        "def print_nested_students(student):\n",
        "  for key, value in student.items():\n",
        "    print(f\"{key}:\")\n",
        "    for k, v in value.items():\n",
        "      print(f\"\\t{k}: {v}\")\n",
        "print_nested_students(students)"
      ],
      "metadata": {
        "colab": {
          "base_uri": "https://localhost:8080/"
        },
        "id": "8lJ4cJpSoZLQ",
        "outputId": "dcd8d053-47fd-4193-cd50-7d4bf835c6ba"
      },
      "execution_count": 34,
      "outputs": [
        {
          "output_type": "stream",
          "name": "stdout",
          "text": [
            "nayan:\n",
            "\tage: 23\n",
            "\taddress: narayanganj\n",
            "\thobbies: ['music', 'games']\n",
            "farha:\n",
            "\tage: 20\n",
            "\taddress: munshiganj\n",
            "\thobbies: ['shopping']\n"
          ]
        }
      ]
    },
    {
      "cell_type": "code",
      "source": [
        "nums = [1,1,1,1,12,2,2,2,2,2,3,43,4,4,4,4,5,5,6,6,6,7,7,8,8,99,9,9]"
      ],
      "metadata": {
        "id": "mDEgEoDVqTIA"
      },
      "execution_count": 35,
      "outputs": []
    },
    {
      "cell_type": "code",
      "source": [
        "nums_dict = {}\n",
        "for num in nums:\n",
        "  if num not in nums_dict:\n",
        "    nums_dict[num] = 1\n",
        "  else:\n",
        "    nums_dict[num] += 1\n",
        "print_student(nums_dict)"
      ],
      "metadata": {
        "colab": {
          "base_uri": "https://localhost:8080/"
        },
        "id": "2BsntvngqZ7f",
        "outputId": "d423706c-cb92-4114-817a-8f9370f23ea0"
      },
      "execution_count": 40,
      "outputs": [
        {
          "output_type": "stream",
          "name": "stdout",
          "text": [
            "1: 4\n",
            "12: 1\n",
            "2: 5\n",
            "3: 1\n",
            "43: 1\n",
            "4: 4\n",
            "5: 2\n",
            "6: 3\n",
            "7: 2\n",
            "8: 2\n",
            "99: 1\n",
            "9: 2\n"
          ]
        }
      ]
    }
  ],
  "metadata": {
    "colab": {
      "provenance": [],
      "include_colab_link": true
    },
    "kernelspec": {
      "display_name": "Python 3",
      "name": "python3"
    }
  },
  "nbformat": 4,
  "nbformat_minor": 0
}